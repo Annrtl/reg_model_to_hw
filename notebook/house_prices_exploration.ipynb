{
 "cells": [
  {
   "cell_type": "code",
   "execution_count": null,
   "id": "7023918a-e361-4b63-97f9-5c38d08f1e8b",
   "metadata": {},
   "outputs": [],
   "source": [
    "import pandas as pd\n",
    "pd.set_option('display.max_columns', None)\n",
    "pd.set_option('display.max_rows', None)\n",
    "import matplotlib.pyplot as plt\n",
    "import seaborn as sns"
   ]
  },
  {
   "cell_type": "code",
   "execution_count": null,
   "id": "528c60cd-152a-4182-9a5e-1a4595863f4c",
   "metadata": {},
   "outputs": [],
   "source": [
    "df = pd.read_csv('data/house_prices/train.csv')"
   ]
  },
  {
   "cell_type": "code",
   "execution_count": null,
   "id": "4a8c6e29-cc53-4735-b6f2-f327b78dae0f",
   "metadata": {},
   "outputs": [],
   "source": [
    "df.sample(10)"
   ]
  },
  {
   "cell_type": "code",
   "execution_count": null,
   "id": "79b7df97-d75f-4def-a4a8-598121b09654",
   "metadata": {},
   "outputs": [],
   "source": [
    "df.info()"
   ]
  },
  {
   "cell_type": "code",
   "execution_count": null,
   "id": "73586f50-8713-4a8a-b0b5-7b00d4487d42",
   "metadata": {},
   "outputs": [],
   "source": [
    "df.describe()"
   ]
  },
  {
   "cell_type": "code",
   "execution_count": null,
   "id": "0e96d9b9-0344-4206-ad44-04713b1820ba",
   "metadata": {},
   "outputs": [],
   "source": [
    "df.isnull().sum()"
   ]
  },
  {
   "cell_type": "code",
   "execution_count": null,
   "id": "7e336f48-7661-4b37-8f14-feea092f5bb5",
   "metadata": {},
   "outputs": [],
   "source": [
    "df.shape"
   ]
  },
  {
   "cell_type": "code",
   "execution_count": null,
   "id": "c6811874-57d8-44f5-a990-6b6303e77f8d",
   "metadata": {},
   "outputs": [],
   "source": [
    "df = df.select_dtypes(exclude=['object'])"
   ]
  },
  {
   "cell_type": "code",
   "execution_count": null,
   "id": "d6cfc4db-4d66-4254-9c73-ae9dc8f8c69d",
   "metadata": {},
   "outputs": [],
   "source": [
    "df.shape"
   ]
  },
  {
   "cell_type": "code",
   "execution_count": null,
   "id": "711d5dc1-2d50-4340-aae8-5c41214e8aa3",
   "metadata": {},
   "outputs": [],
   "source": [
    "df.isnull().sum()"
   ]
  },
  {
   "cell_type": "code",
   "execution_count": null,
   "id": "807d700b-dd11-48b9-a837-bcb72d4c1470",
   "metadata": {},
   "outputs": [],
   "source": [
    "df = df.dropna()"
   ]
  },
  {
   "cell_type": "code",
   "execution_count": null,
   "id": "ae8da2dd-6449-4c9e-9097-0e6cb80ad547",
   "metadata": {},
   "outputs": [],
   "source": [
    "df.shape"
   ]
  },
  {
   "cell_type": "code",
   "execution_count": null,
   "id": "dadddeab-59ca-420e-995a-45e50533fae3",
   "metadata": {},
   "outputs": [],
   "source": [
    "df.describe()"
   ]
  },
  {
   "cell_type": "code",
   "execution_count": null,
   "id": "c7ca71a3-9e13-4a23-a02c-ec8f0964d482",
   "metadata": {},
   "outputs": [],
   "source": [
    "df.columns"
   ]
  },
  {
   "cell_type": "code",
   "execution_count": null,
   "id": "8e6dbf22-e577-489e-a7c9-22509966258c",
   "metadata": {},
   "outputs": [],
   "source": [
    "plt.figure()\n",
    "sns.histplot(df['SalePrice'])\n",
    "plt.show()"
   ]
  },
  {
   "cell_type": "code",
   "execution_count": null,
   "id": "da654488-b800-415a-a01d-f76ea4a69a22",
   "metadata": {},
   "outputs": [],
   "source": [
    "correlation_matrix = df.corr()\n",
    "plt.figure(figsize=(24,20))\n",
    "sns.heatmap(correlation_matrix, annot=True, cmap='viridis', linewidths=.5, fmt=\".2f\", vmin=-1, vmax=1)\n",
    "plt.title('Correlation Matrix Heatmap')\n",
    "plt.savefig('corr.png')\n",
    "plt.show()"
   ]
  },
  {
   "cell_type": "code",
   "execution_count": null,
   "id": "c3211ee1-6bcb-4683-8816-34bb670169de",
   "metadata": {},
   "outputs": [],
   "source": [
    "for c in df.columns:\n",
    "    if abs(correlation_matrix['SalePrice'][c]) < 0.2:\n",
    "        df = df.drop(c, axis=1)\n",
    "df.shape"
   ]
  },
  {
   "cell_type": "code",
   "execution_count": null,
   "id": "b75b357c-497e-4564-9f3a-641fb578fd8f",
   "metadata": {},
   "outputs": [],
   "source": [
    "correlation_matrix = df.corr()\n",
    "plt.figure(figsize=(24,20))\n",
    "sns.heatmap(correlation_matrix, annot=True, cmap='viridis', linewidths=.5, fmt=\".2f\", vmin=-1, vmax=1)\n",
    "plt.title('Correlation Matrix Heatmap')\n",
    "plt.savefig('corr.png')\n",
    "plt.show()"
   ]
  },
  {
   "cell_type": "code",
   "execution_count": null,
   "id": "d1a4a0bc-cdd9-4a8d-b7a4-8591174dae4c",
   "metadata": {},
   "outputs": [],
   "source": [
    "correlation_matrix['SalePrice'].sort_values()"
   ]
  },
  {
   "cell_type": "code",
   "execution_count": null,
   "id": "b14becdc-d8f6-489d-84a4-1ea289684cf6",
   "metadata": {},
   "outputs": [],
   "source": [
    "df.columns"
   ]
  }
 ],
 "metadata": {
  "kernelspec": {
   "display_name": "Python 3 (ipykernel)",
   "language": "python",
   "name": "python3"
  },
  "language_info": {
   "codemirror_mode": {
    "name": "ipython",
    "version": 3
   },
   "file_extension": ".py",
   "mimetype": "text/x-python",
   "name": "python",
   "nbconvert_exporter": "python",
   "pygments_lexer": "ipython3",
   "version": "3.9.18"
  }
 },
 "nbformat": 4,
 "nbformat_minor": 5
}
